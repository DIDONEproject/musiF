{
 "cells": [
  {
   "cell_type": "markdown",
   "metadata": {},
   "source": [
    "# XML cutter and midi formatter \n",
    "This script is prepared to parse a folder full of xml files, cut them to a certain length , *if desired* (according to a specific measure criteria) and output then a midi file with thiss new length.\n",
    "\n",
    "Afterwards, we are able to process these new midi files by using jSymbolic GUI if we want to include these features in our analyses. This notebook allso provides code for that purpose.\n",
    "\n",
    "To install `musif`:\n",
    "1. [Download](https://raw.githubusercontent.com/DIDONEproject/musif/main/docs/source/Cutter_and_midi_extractor.ipynb) this notebook.\n",
    "2. Start `jupyter` in your Anaconda environment.\n",
    "3. Open this script.\n",
    "4. Run the following cell by clicking on it and pressing Ctrl+Enter.\n",
    "\n",
    "https://musescore.org/es/download\n"
   ]
  },
  {
   "cell_type": "code",
   "execution_count": null,
   "metadata": {},
   "outputs": [],
   "source": [
    "%pip install musif"
   ]
  },
  {
   "cell_type": "code",
   "execution_count": null,
   "metadata": {},
   "outputs": [],
   "source": [
    "import os\n",
    "import subprocess\n",
    "import sys\n",
    "from math import floor\n",
    "from os import path\n",
    "from pathlib import Path\n",
    "\n",
    "from music21.stream.base import Measure, Score\n",
    "from musif.common._utils import read_dicts_from_csv\n",
    "\n",
    "import musif.extract.constants as C\n",
    "from musif.extract.extract import parse_filename\n",
    "from musif.logs import perr, pinfo, pwarn\n",
    "\n",
    "sys.path.append(os.path.abspath('.'))\n",
    "from feature_extraction.custom_conf import CustomConf\n",
    "from musif.config import ExtractConfiguration"
   ]
  },
  {
   "cell_type": "code",
   "execution_count": null,
   "metadata": {},
   "outputs": [],
   "source": [
    "import glob\n",
    "\n",
    "\n",
    "class CustomConf(ExtractConfiguration):\n",
    "    def __init__(self, *args, **kwargs):\n",
    "        super().__init__(*args, **kwargs)\n",
    "        self._load_metadata()\n",
    "\n",
    "    def _load_metadata(self) -> None:\n",
    "        self.scores_metadata = {\n",
    "            path.basename(file): read_dicts_from_csv(file)\n",
    "            for file in glob(path.join(self.metadata_dir, \"*.csv\")) # type: ignore\n",
    "        }\n",
    "        if not self.scores_metadata:\n",
    "            print(\n",
    "                \"\\nMetadata could not be loaded properly!! Check metadata path in config file.\\n\"\n",
    "            )"
   ]
  },
  {
   "cell_type": "markdown",
   "metadata": {},
   "source": [
    "Define specific functions for our script"
   ]
  },
  {
   "cell_type": "code",
   "execution_count": null,
   "metadata": {},
   "outputs": [],
   "source": [
    "def cut_by_measures_by_measure(cfg, data):\n",
    "    score: Score = data[C.DATA_SCORE]\n",
    "    last_measure = 1000000\n",
    "    for metadata in cfg.scores_metadata[last_measure]:\n",
    "        if metadata[\"FileName\"] == data[\"FileName\"]:\n",
    "            last_measure = floor(float(metadata.get(cfg.end_of_theme_a, last_measure)))\n",
    "            if last_measure == 0:\n",
    "                name = data['file'].name\n",
    "                pwarn(f'Last measure for {name} fil was found to be 0! Remember to update metadata before extraction ;) Setting last measure to the end of the score.\\n')\n",
    "                last_measure = 1000000\n",
    "            break\n",
    "\n",
    "    remove_everything_after_measure(score, last_measure)\n",
    "\n",
    "def remove_everything_after_measure(score, last_measure):\n",
    "    for part in score.parts:\n",
    "        read_measures = 0\n",
    "        elements_to_remove = []\n",
    "        for measure in part.getElementsByClass(Measure):\n",
    "            read_measures += 1\n",
    "            if read_measures > last_measure:\n",
    "                elements_to_remove.append(measure)\n",
    "        part.remove(targetOrList=elements_to_remove)\n",
    "\n",
    "def save_xml(data, new_filename):\n",
    "    new_filename = str(new_filename) + '.xml'\n",
    "    data[C.DATA_SCORE].write('musicxml', fp=f'{new_filename}')\n",
    "    \n",
    "def save_to_midi(filename):\n",
    "    filename = str(filename)\n",
    "    new_filename = filename + '.mid'\n",
    "    if path.exists(new_filename):\n",
    "            pinfo(f\"{filename} already exists as MIDI, skipping it!\")\n",
    "            return\n",
    "    cmd = [\"mscore\", \"-fo\", new_filename, filename + '.xml']\n",
    "    pinfo(f\"Converting {filename} to MIDI\")\n",
    "    try:\n",
    "        subprocess.run(\n",
    "            cmd,\n",
    "            stdout=subprocess.DEVNULL,\n",
    "            timeout=120,\n",
    "        )\n",
    "    except subprocess.TimeoutExpired:\n",
    "        pwarn(\n",
    "            f\"Continuing because time expired for file {filename}! Try running:\\n\"\n",
    "            + \"\".join(cmd)\n",
    "        ) "
   ]
  },
  {
   "cell_type": "code",
   "execution_count": null,
   "metadata": {},
   "outputs": [],
   "source": [
    "from musif.config import ExtractConfiguration\n",
    "\n",
    "custom_config = \"config.yml\"\n",
    "\n",
    "cfg = CustomConf(\n",
    "    None,\n",
    "    metadata_dir = \"your/metadata/dir\"\n",
    "    expand_repeats = False,\n",
    "    remove_unpitched_objects = True)\n",
    "data_path = 'data/xml/'\n",
    "data_path_cutted = Path('data/xml/cutted_themeA/')\n"
   ]
  },
  {
   "cell_type": "code",
   "execution_count": null,
   "metadata": {},
   "outputs": [],
   "source": [
    "for filename in sorted(Path(data_path).glob(f\"*.xml\")):\n",
    "        data = {}\n",
    "        new_filename = data_path_cutted / Path(filename.stem + '_cutted')\n",
    "        if path.exists(str(new_filename) + '.xml'):\n",
    "            pinfo(f\"{filename} already exists as cutted xml, skipping it!\")\n",
    "            continue\n",
    "        score = parse_filename(\n",
    "            filename,\n",
    "            None,\n",
    "            expand_repeats=cfg.expand_repeats,\n",
    "            export_dfs_to = None,\n",
    "            remove_unpitched_objects=cfg.remove_unpitched_objects,\n",
    "        )\n",
    "        data[C.DATA_SCORE] = score\n",
    "        data[C.DATA_FILE] = filename\n",
    "        \n",
    "        cut_by_measures_by_measure(cfg, data)\n",
    "        data_path_cutted.mkdir(exist_ok=True)\n",
    "        try:        \n",
    "            save_xml(data, new_filename)\n",
    "        except Exception as e:\n",
    "            perr(f'There was an error saving score {filename} to xml: {e}. Skipping it!')\n",
    "            continue\n",
    "        try:        \n",
    "            save_to_midi(new_filename)\n",
    "        except Exception as e:\n",
    "            perr(f'There was an error saving score {filename} to midi: {e}. Skipping it!')\n",
    "\n"
   ]
  },
  {
   "cell_type": "markdown",
   "metadata": {},
   "source": [
    "--- In this part, we are free to use jSymbolic GUI to extract features from our recent created midi files. Afterwards, just run the following cell in order to join jSymbolic data to musif's extraction---\n",
    "\n",
    "Download: https://sourceforge.net/projects/jmir/files/jSymbolic/"
   ]
  },
  {
   "cell_type": "markdown",
   "metadata": {},
   "source": [
    "# Merging musif data with jSymbolic extracted csv\n",
    "Now, if we want to merge jSymbolic data with our extracted musif df:"
   ]
  },
  {
   "cell_type": "code",
   "execution_count": null,
   "metadata": {},
   "outputs": [],
   "source": [
    "import pandas as pd\n",
    "\n",
    "path_to_musif_df = '.'\n",
    "df_musif = pd.read_csv(path_to_musif_df, low_memory=False)\n",
    "\n",
    "path_to_jsymbollic_extracted_csv = 'extracted_feature_values.csv'\n",
    "df_jSymbolic = pd.read_csv(path_to_jsymbollic_extracted_csv, low_memory=False)\n",
    "df_jSymbolic.rename(columns={'Unnamed: 0': 'FileName'})\n",
    "# -- here you must process the FileName column so both values in musif's df and in j_Symbolic match\n",
    "df_total = pd.merge(df_musif, df_jSymbolic, on='FileName')\n",
    "\n",
    "df_total.to_csv('total.csv', index=False)"
   ]
  }
 ],
 "metadata": {
  "kernelspec": {
   "display_name": "musicai",
   "language": "python",
   "name": "python3"
  },
  "language_info": {
   "codemirror_mode": {
    "name": "ipython",
    "version": 3
   },
   "file_extension": ".py",
   "mimetype": "text/x-python",
   "name": "python",
   "nbconvert_exporter": "python",
   "pygments_lexer": "ipython3",
   "version": "3.10.8"
  }
 },
 "nbformat": 4,
 "nbformat_minor": 2
}
